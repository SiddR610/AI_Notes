{
  "nbformat": 4,
  "nbformat_minor": 0,
  "metadata": {
    "colab": {
      "provenance": [],
      "authorship_tag": "ABX9TyNbxtmKNXF4v2ugEb7uwhIO",
      "include_colab_link": true
    },
    "kernelspec": {
      "name": "python3",
      "display_name": "Python 3"
    },
    "language_info": {
      "name": "python"
    }
  },
  "cells": [
    {
      "cell_type": "markdown",
      "metadata": {
        "id": "view-in-github",
        "colab_type": "text"
      },
      "source": [
        "<a href=\"https://colab.research.google.com/github/SiddR610/AI_Notes/blob/main/Unification_ex8.ipynb\" target=\"_parent\"><img src=\"https://colab.research.google.com/assets/colab-badge.svg\" alt=\"Open In Colab\"/></a>"
      ]
    },
    {
      "cell_type": "code",
      "execution_count": 6,
      "metadata": {
        "id": "kL5c-A_nXfSX",
        "colab": {
          "base_uri": "https://localhost:8080/"
        },
        "outputId": "4bdd1e43-86f1-4116-d8b8-8220ce2c7f20"
      },
      "outputs": [
        {
          "output_type": "stream",
          "name": "stdout",
          "text": [
            "Terms can be unified with substitutions:\n",
            "h = f\n",
            "g = l\n"
          ]
        }
      ],
      "source": [
        "class Unifier:\n",
        "    def unify(self, t1, t2):\n",
        "        \"\"\"\n",
        "        Unify two terms t1 and t2.\n",
        "        \"\"\"\n",
        "        if t1 == t2:\n",
        "            return {}\n",
        "\n",
        "        if isinstance(t1, str) and t1.islower():\n",
        "            return {t1: t2}\n",
        "\n",
        "        if isinstance(t2, str) and t2.islower():\n",
        "            return {t2: t1}\n",
        "\n",
        "        if isinstance(t1, list) and isinstance(t2, list):\n",
        "            if len(t1) != len(t2):\n",
        "                return False\n",
        "            substitutions = {}\n",
        "            for sub_t1, sub_t2 in zip(t1, t2):\n",
        "                sub_subs = self.unify(sub_t1, sub_t2)\n",
        "                if sub_subs is False:\n",
        "                    return False\n",
        "                self.compose(substitutions, sub_subs)\n",
        "            return substitutions\n",
        "\n",
        "        return False\n",
        "\n",
        "    def compose(self, s1, s2):\n",
        "        \"\"\"\n",
        "        Compose two substitutions.\n",
        "        \"\"\"\n",
        "        for var, value in s2.items():\n",
        "            if var in s1:\n",
        "                s1[var] = self.apply(s1, value)\n",
        "            else:\n",
        "                s1[var] = value\n",
        "\n",
        "    def apply(self, subs, term):\n",
        "        \"\"\"\n",
        "        Apply a substitution to a term.\n",
        "        \"\"\"\n",
        "        if isinstance(term, str) and term in subs:\n",
        "            return self.apply(subs, subs[term])\n",
        "        elif isinstance(term, list):\n",
        "            return [self.apply(subs, t) for t in term]\n",
        "        else:\n",
        "            return term\n",
        "\n",
        "\n",
        "# Example usage:\n",
        "if __name__ == \"__main__\":\n",
        "    unifier = Unifier()\n",
        "\n",
        "    # Terms to unify\n",
        "    term1 = ['h', 'X', ['g', 'Y']]\n",
        "    term2 = ['f', 'X', ['l', 'Y']]\n",
        "\n",
        "    # Unify terms\n",
        "    substitutions = unifier.unify(term1, term2)\n",
        "\n",
        "    if substitutions:\n",
        "        print(\"Terms can be unified with substitutions:\")\n",
        "        for var, value in substitutions.items():\n",
        "            print(f\"{var} = {value}\")\n",
        "    else:\n",
        "        print(\"Terms cannot be unified.\")\n"
      ]
    },
    {
      "cell_type": "code",
      "source": [],
      "metadata": {
        "id": "ZNHYgFR85ojL"
      },
      "execution_count": null,
      "outputs": []
    }
  ]
}