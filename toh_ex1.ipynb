{
  "nbformat": 4,
  "nbformat_minor": 0,
  "metadata": {
    "colab": {
      "provenance": [],
      "authorship_tag": "ABX9TyMYlU/z9m+cPKNvdFqzeAil",
      "include_colab_link": true
    },
    "kernelspec": {
      "name": "python3",
      "display_name": "Python 3"
    },
    "language_info": {
      "name": "python"
    }
  },
  "cells": [
    {
      "cell_type": "markdown",
      "metadata": {
        "id": "view-in-github",
        "colab_type": "text"
      },
      "source": [
        "<a href=\"https://colab.research.google.com/github/SiddR610/AI_Notes/blob/main/toh_ex1.ipynb\" target=\"_parent\"><img src=\"https://colab.research.google.com/assets/colab-badge.svg\" alt=\"Open In Colab\"/></a>"
      ]
    },
    {
      "cell_type": "code",
      "execution_count": 1,
      "metadata": {
        "colab": {
          "base_uri": "https://localhost:8080/"
        },
        "id": "-v8FdsO_pemd",
        "outputId": "7783ba9a-6079-463b-8a2a-46e7f8f9505a"
      },
      "outputs": [
        {
          "output_type": "stream",
          "name": "stdout",
          "text": [
            "Enter the number of disks: 4\n",
            "Move disk 1 from A to B\n",
            "Move disk 2 from A to C\n",
            "Move disk 1 from B to C\n",
            "Move disk 3 from A to B\n",
            "Move disk 1 from C to A\n",
            "Move disk 2 from C to B\n",
            "Move disk 1 from A to B\n",
            "Move disk 4 from A to C\n",
            "Move disk 1 from B to C\n",
            "Move disk 2 from B to A\n",
            "Move disk 1 from C to A\n",
            "Move disk 3 from B to C\n",
            "Move disk 1 from A to B\n",
            "Move disk 2 from A to C\n",
            "Move disk 1 from B to C\n"
          ]
        }
      ],
      "source": [
        "def tower_of_hanoi(n, source, target, auxiliary):\n",
        "    if n == 1:\n",
        "        print(f\"Move disk 1 from {source} to {target}\")\n",
        "        return\n",
        "    tower_of_hanoi(n-1, source, auxiliary, target)\n",
        "    print(f\"Move disk {n} from {source} to {target}\")\n",
        "    tower_of_hanoi(n-1, auxiliary, target, source)\n",
        "\n",
        "def main():\n",
        "    n = int(input(\"Enter the number of disks: \"))\n",
        "    tower_of_hanoi(n, 'A', 'C', 'B')\n",
        "\n",
        "if __name__ == \"__main__\":\n",
        "    main()\n"
      ]
    },
    {
      "cell_type": "code",
      "source": [],
      "metadata": {
        "id": "RwepAZH3scV-"
      },
      "execution_count": null,
      "outputs": []
    }
  ]
}