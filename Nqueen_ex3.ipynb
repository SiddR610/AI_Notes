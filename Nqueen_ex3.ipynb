{
  "nbformat": 4,
  "nbformat_minor": 0,
  "metadata": {
    "colab": {
      "provenance": [],
      "authorship_tag": "ABX9TyNFo7tg6EgYMVTV7SeHblJb",
      "include_colab_link": true
    },
    "kernelspec": {
      "name": "python3",
      "display_name": "Python 3"
    },
    "language_info": {
      "name": "python"
    }
  },
  "cells": [
    {
      "cell_type": "markdown",
      "metadata": {
        "id": "view-in-github",
        "colab_type": "text"
      },
      "source": [
        "<a href=\"https://colab.research.google.com/github/SiddR610/AI_Notes/blob/main/Nqueen_ex3.ipynb\" target=\"_parent\"><img src=\"https://colab.research.google.com/assets/colab-badge.svg\" alt=\"Open In Colab\"/></a>"
      ]
    },
    {
      "cell_type": "code",
      "execution_count": 3,
      "metadata": {
        "colab": {
          "base_uri": "https://localhost:8080/"
        },
        "id": "ucRsrDq5-ON1",
        "outputId": "ef013b61-2d74-41d7-caa1-dcac2bab5a48"
      },
      "outputs": [
        {
          "output_type": "stream",
          "name": "stdout",
          "text": [
            "Number of solutions: 2\n",
            "[1, 3, 0, 2]\n",
            "[2, 0, 3, 1]\n"
          ]
        }
      ],
      "source": [
        "def solve_n_queens(n):\n",
        "    def is_safe(board, row, col):\n",
        "        for i in range(row):\n",
        "            if board[i] == col or \\\n",
        "               board[i] - i == col - row or \\\n",
        "               board[i] + i == col + row:\n",
        "                return False\n",
        "        return True\n",
        "\n",
        "    def backtrack(board, row):\n",
        "        if row == n:\n",
        "            solutions.append(list(board))\n",
        "            return\n",
        "        for col in range(n):\n",
        "            if is_safe(board, row, col):\n",
        "                board[row] = col\n",
        "                backtrack(board, row + 1)\n",
        "                board[row] = -1\n",
        "\n",
        "    solutions = []\n",
        "    board = [-1] * n\n",
        "    backtrack(board, 0)\n",
        "    return solutions\n",
        "\n",
        "# Example usage\n",
        "n = 4\n",
        "solutions = solve_n_queens(n)\n",
        "print(\"Number of solutions:\", len(solutions))\n",
        "for solution in solutions:\n",
        "    print(solution)\n"
      ]
    },
    {
      "cell_type": "code",
      "source": [],
      "metadata": {
        "id": "XXIyV3IB_gGX"
      },
      "execution_count": null,
      "outputs": []
    }
  ]
}