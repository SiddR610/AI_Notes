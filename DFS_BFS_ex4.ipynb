{
  "nbformat": 4,
  "nbformat_minor": 0,
  "metadata": {
    "colab": {
      "provenance": [],
      "authorship_tag": "ABX9TyMlv9sZuigBqp4dWB0YyUX8",
      "include_colab_link": true
    },
    "kernelspec": {
      "name": "python3",
      "display_name": "Python 3"
    },
    "language_info": {
      "name": "python"
    }
  },
  "cells": [
    {
      "cell_type": "markdown",
      "metadata": {
        "id": "view-in-github",
        "colab_type": "text"
      },
      "source": [
        "<a href=\"https://colab.research.google.com/github/SiddR610/AI_Notes/blob/main/DFS_BFS_ex4.ipynb\" target=\"_parent\"><img src=\"https://colab.research.google.com/assets/colab-badge.svg\" alt=\"Open In Colab\"/></a>"
      ]
    },
    {
      "cell_type": "code",
      "source": [
        "from collections import deque\n",
        "\n",
        "class Graph:\n",
        "    def __init__(self):\n",
        "        self.graph = {}\n",
        "\n",
        "    def add_edge(self, u, v):\n",
        "        if u not in self.graph:\n",
        "            self.graph[u] = []\n",
        "        self.graph[u].append(v)\n",
        "\n",
        "    def dfs(self, start):\n",
        "        visited = set()\n",
        "        self._dfs_helper(start, visited)\n",
        "\n",
        "    def _dfs_helper(self, node, visited):\n",
        "        visited.add(node)\n",
        "        print(node, end=\" \")\n",
        "\n",
        "        if node in self.graph:\n",
        "            for neighbor in self.graph[node]:\n",
        "                if neighbor not in visited:\n",
        "                    self._dfs_helper(neighbor, visited)\n",
        "\n",
        "    def bfs(self, start):\n",
        "        visited = set()\n",
        "        queue = deque([start])\n",
        "\n",
        "        while queue:\n",
        "            node = queue.popleft()\n",
        "            visited.add(node)\n",
        "            print(node, end=\" \")\n",
        "\n",
        "            if node in self.graph:\n",
        "                for neighbor in self.graph[node]:\n",
        "                    if neighbor not in visited:\n",
        "                        queue.append(neighbor)\n",
        "\n",
        "# Example usage:\n",
        "g = Graph()\n",
        "g.add_edge('A', 'B')\n",
        "g.add_edge('A', 'C')\n",
        "g.add_edge('B', 'D')\n",
        "g.add_edge('B', 'E')\n",
        "g.add_edge('C', 'F')\n",
        "\n",
        "print(\"Depth-First Traversal (starting from 'A'):\")\n",
        "g.dfs('A')\n",
        "\n",
        "print(\"\\nBreadth-First Traversal (starting from 'A'):\")\n",
        "g.bfs('A')\n"
      ],
      "metadata": {
        "id": "HsZt0mLk-T6e",
        "colab": {
          "base_uri": "https://localhost:8080/"
        },
        "outputId": "4e5aac5d-7e81-46bc-d81c-a40462ba9005"
      },
      "execution_count": 3,
      "outputs": [
        {
          "output_type": "stream",
          "name": "stdout",
          "text": [
            "Depth-First Traversal (starting from 'A'):\n",
            "A B D E C F \n",
            "Breadth-First Traversal (starting from 'A'):\n",
            "A B C D E F "
          ]
        }
      ]
    },
    {
      "cell_type": "code",
      "source": [],
      "metadata": {
        "id": "qbibu1pbJwr1"
      },
      "execution_count": null,
      "outputs": []
    }
  ]
}