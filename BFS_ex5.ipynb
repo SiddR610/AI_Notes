{
  "nbformat": 4,
  "nbformat_minor": 0,
  "metadata": {
    "colab": {
      "provenance": [],
      "authorship_tag": "ABX9TyNjhhYJkOMDheWUfJhYnkP3",
      "include_colab_link": true
    },
    "kernelspec": {
      "name": "python3",
      "display_name": "Python 3"
    },
    "language_info": {
      "name": "python"
    }
  },
  "cells": [
    {
      "cell_type": "markdown",
      "metadata": {
        "id": "view-in-github",
        "colab_type": "text"
      },
      "source": [
        "<a href=\"https://colab.research.google.com/github/SiddR610/AI_Notes/blob/main/BFS_ex5.ipynb\" target=\"_parent\"><img src=\"https://colab.research.google.com/assets/colab-badge.svg\" alt=\"Open In Colab\"/></a>"
      ]
    },
    {
      "cell_type": "code",
      "source": [
        "from queue import PriorityQueue\n",
        "\n",
        "v = 7\n",
        "graph = [[] for i in range(v)]\n",
        "\n",
        "def best_first_search(actual_Src, target, n):\n",
        "    visited = [False] * n\n",
        "    pq = PriorityQueue()\n",
        "    pq.put((0, actual_Src))\n",
        "    visited[actual_Src] = True\n",
        "\n",
        "    while pq.empty() == False:\n",
        "        _, u = pq.get()\n",
        "\n",
        "        print(chr(u + ord('A')), end=\" \")\n",
        "        if u == target:\n",
        "            break\n",
        "\n",
        "        for v, c in graph[u]:\n",
        "            if visited[v] == False:\n",
        "                visited[v] = True\n",
        "                heuristic = heuristic_function(v, target)\n",
        "                pq.put((heuristic, v))\n",
        "    print()\n",
        "\n",
        "def addedge(x, y, cost):\n",
        "    graph[x].append((y, cost))\n",
        "    graph[y].append((x, cost))\n",
        "\n",
        "def heuristic_function(node, goal):\n",
        "    return abs(node - goal)\n",
        "\n",
        "addedge(0, 1, 5)  # A to B\n",
        "addedge(0, 2, 7)  # A to C\n",
        "addedge(1, 3, 9)  # B to D\n",
        "addedge(1, 4, 8)  # B to E\n",
        "addedge(2, 5, 6)  # C to F\n",
        "addedge(2, 6, 10) # C to G\n",
        "addedge(3, 6, 7)  # D to G\n",
        "addedge(4, 6, 8)  # E to G\n",
        "addedge(5, 6, 5)  # F to G\n",
        "\n",
        "source = 0  # Starting city: A\n",
        "target = 6  # Destination city: G\n",
        "\n",
        "print(\"Shortest path from\", chr(source + ord('A')), \"to\", chr(target + ord('A')), \"using Best First Search:\")\n",
        "best_first_search(source, target, v)\n"
      ],
      "metadata": {
        "colab": {
          "base_uri": "https://localhost:8080/"
        },
        "id": "qr3HI5XiL93O",
        "outputId": "bcdb7c45-9d78-4f5f-f718-e2bda8f8d7f6"
      },
      "execution_count": 2,
      "outputs": [
        {
          "output_type": "stream",
          "name": "stdout",
          "text": [
            "Shortest path from A to G using Best First Search:\n",
            "A C G \n"
          ]
        }
      ]
    },
    {
      "cell_type": "code",
      "source": [],
      "metadata": {
        "id": "JhgxSClTQQm-"
      },
      "execution_count": null,
      "outputs": []
    }
  ]
}